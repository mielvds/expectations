{
 "cells": [
  {
   "cell_type": "code",
   "execution_count": 14,
   "id": "cellular-intensity",
   "metadata": {},
   "outputs": [
    {
     "data": {
      "text/plain": [
       "<kglab.kglab.KnowledgeGraph at 0x1494d2580>"
      ]
     },
     "execution_count": 14,
     "metadata": {},
     "output_type": "execute_result"
    }
   ],
   "source": [
    "import kglab\n",
    "\n",
    "ttl_text = \"\"\"\n",
    "@prefix : <http://www.w3.org/2012/12/rdf-val/SOTA-ex#> .\n",
    "@prefix foaf: <http://xmlns.com/foaf/0.1/> .\n",
    "\n",
    ":peep0 a foaf:Person ;\n",
    "    foaf:givenName \"Alice\" ;\n",
    "    foaf:familyName \"Nakamoto\" ;\n",
    "    foaf:phone \"+1.555.222.2222\" ;\n",
    "    foaf:mbox \"alice@example.org\" .\n",
    "\n",
    ":peep1 a foaf:Person ;\n",
    "    foaf:givenName \"Bob\" ;\n",
    "    foaf:familyName \"Patel\" ;\n",
    "    foaf:phone \"+1.555.666.5150\" ;\n",
    "    foaf:mbox \"bob@example.org\" .\n",
    "\n",
    ":peep2 a foaf:Person ;\n",
    "    foaf:givenName \"Dhanya\" ;\n",
    "    foaf:familyName \"O'Neill\" ;\n",
    "    foaf:phone \"+1.555.123.9876\" ;\n",
    "    foaf:mbox \"dhanya@example.org\" .\n",
    "\"\"\"\n",
    "\n",
    "kg = kglab.KnowledgeGraph(\n",
    "    name = \"A KG example about people\"\n",
    "    )\n",
    "\n",
    "kg.load_rdf_text(ttl_text)"
   ]
  },
  {
   "cell_type": "code",
   "execution_count": 15,
   "id": "combined-journalism",
   "metadata": {},
   "outputs": [],
   "source": [
    "sparql = \"\"\"\n",
    "    SELECT ?person ?surname ?email\n",
    "    WHERE {\n",
    "        ?person foaf:familyName ?surname .\n",
    "        ?person foaf:mbox ?email .\n",
    "    }\n",
    "    ORDER BY DESC(?surname)\n",
    "\"\"\""
   ]
  },
  {
   "cell_type": "code",
   "execution_count": 16,
   "id": "laughing-manor",
   "metadata": {},
   "outputs": [],
   "source": [
    "import pandas as pd\n",
    "import great_expectations as ge\n",
    "\n",
    "pd.set_option(\"max_rows\", None)\n",
    "\n",
    "df = kg.query_as_df(sparql, bindings=None, simplify=False, pythonify=True)"
   ]
  },
  {
   "cell_type": "code",
   "execution_count": 17,
   "id": "communist-tamil",
   "metadata": {},
   "outputs": [
    {
     "data": {
      "text/html": [
       "<div>\n",
       "<style scoped>\n",
       "    .dataframe tbody tr th:only-of-type {\n",
       "        vertical-align: middle;\n",
       "    }\n",
       "\n",
       "    .dataframe tbody tr th {\n",
       "        vertical-align: top;\n",
       "    }\n",
       "\n",
       "    .dataframe thead th {\n",
       "        text-align: right;\n",
       "    }\n",
       "</style>\n",
       "<table border=\"1\" class=\"dataframe\">\n",
       "  <thead>\n",
       "    <tr style=\"text-align: right;\">\n",
       "      <th></th>\n",
       "      <th>person</th>\n",
       "      <th>surname</th>\n",
       "      <th>email</th>\n",
       "    </tr>\n",
       "  </thead>\n",
       "  <tbody>\n",
       "    <tr>\n",
       "      <th>0</th>\n",
       "      <td>http://www.w3.org/2012/12/rdf-val/SOTA-ex#peep1</td>\n",
       "      <td>Patel</td>\n",
       "      <td>bob@example.org</td>\n",
       "    </tr>\n",
       "    <tr>\n",
       "      <th>1</th>\n",
       "      <td>http://www.w3.org/2012/12/rdf-val/SOTA-ex#peep2</td>\n",
       "      <td>O'Neill</td>\n",
       "      <td>dhanya@example.org</td>\n",
       "    </tr>\n",
       "    <tr>\n",
       "      <th>2</th>\n",
       "      <td>http://www.w3.org/2012/12/rdf-val/SOTA-ex#peep0</td>\n",
       "      <td>Nakamoto</td>\n",
       "      <td>alice@example.org</td>\n",
       "    </tr>\n",
       "  </tbody>\n",
       "</table>\n",
       "</div>"
      ],
      "text/plain": [
       "                                            person   surname  \\\n",
       "0  http://www.w3.org/2012/12/rdf-val/SOTA-ex#peep1     Patel   \n",
       "1  http://www.w3.org/2012/12/rdf-val/SOTA-ex#peep2   O'Neill   \n",
       "2  http://www.w3.org/2012/12/rdf-val/SOTA-ex#peep0  Nakamoto   \n",
       "\n",
       "                email  \n",
       "0     bob@example.org  \n",
       "1  dhanya@example.org  \n",
       "2   alice@example.org  "
      ]
     },
     "execution_count": 17,
     "metadata": {},
     "output_type": "execute_result"
    }
   ],
   "source": [
    "my_df = ge.from_pandas(df)\n",
    "my_df.head()"
   ]
  },
  {
   "cell_type": "code",
   "execution_count": 18,
   "id": "minus-angola",
   "metadata": {},
   "outputs": [
    {
     "data": {
      "text/plain": [
       "{\n",
       "  \"meta\": {},\n",
       "  \"result\": {\n",
       "    \"observed_value\": [\n",
       "      \"person\",\n",
       "      \"surname\",\n",
       "      \"email\"\n",
       "    ]\n",
       "  },\n",
       "  \"exception_info\": {\n",
       "    \"raised_exception\": false,\n",
       "    \"exception_traceback\": null,\n",
       "    \"exception_message\": null\n",
       "  },\n",
       "  \"success\": true\n",
       "}"
      ]
     },
     "execution_count": 18,
     "metadata": {},
     "output_type": "execute_result"
    }
   ],
   "source": [
    "my_df.expect_table_columns_to_match_ordered_list(column_list=[\"person\", \"surname\", \"email\"])"
   ]
  },
  {
   "cell_type": "code",
   "execution_count": 19,
   "id": "operational-cambridge",
   "metadata": {},
   "outputs": [
    {
     "data": {
      "text/plain": [
       "{\n",
       "  \"meta\": {},\n",
       "  \"result\": {\n",
       "    \"element_count\": 3,\n",
       "    \"missing_count\": 0,\n",
       "    \"missing_percent\": 0.0,\n",
       "    \"unexpected_count\": 0,\n",
       "    \"unexpected_percent\": 0.0,\n",
       "    \"unexpected_percent_total\": 0.0,\n",
       "    \"unexpected_percent_nonmissing\": 0.0,\n",
       "    \"partial_unexpected_list\": []\n",
       "  },\n",
       "  \"exception_info\": {\n",
       "    \"raised_exception\": false,\n",
       "    \"exception_traceback\": null,\n",
       "    \"exception_message\": null\n",
       "  },\n",
       "  \"success\": true\n",
       "}"
      ]
     },
     "execution_count": 19,
     "metadata": {},
     "output_type": "execute_result"
    }
   ],
   "source": [
    "my_df.expect_column_values_to_be_unique(column=\"person\")"
   ]
  },
  {
   "cell_type": "code",
   "execution_count": 23,
   "id": "eight-computer",
   "metadata": {},
   "outputs": [
    {
     "data": {
      "text/plain": [
       "{\n",
       "  \"meta\": {},\n",
       "  \"result\": {\n",
       "    \"element_count\": 3,\n",
       "    \"missing_count\": 0,\n",
       "    \"missing_percent\": 0.0,\n",
       "    \"unexpected_count\": 0,\n",
       "    \"unexpected_percent\": 0.0,\n",
       "    \"unexpected_percent_total\": 0.0,\n",
       "    \"unexpected_percent_nonmissing\": 0.0,\n",
       "    \"partial_unexpected_list\": []\n",
       "  },\n",
       "  \"exception_info\": {\n",
       "    \"raised_exception\": false,\n",
       "    \"exception_traceback\": null,\n",
       "    \"exception_message\": null\n",
       "  },\n",
       "  \"success\": true\n",
       "}"
      ]
     },
     "execution_count": 23,
     "metadata": {},
     "output_type": "execute_result"
    }
   ],
   "source": [
    "my_df.expect_column_values_to_match_regex(column=\"email\", regex=\"(?:[a-z0-9!#$%&'*+/=?^_`{|}~-]+(?:\\.[a-z0-9!#$%&'*+/=?^_`{|}~-]+)*|\\\"(?:[\\x01-\\x08\\x0b\\x0c\\x0e-\\x1f\\x21\\x23-\\x5b\\x5d-\\x7f]|\\\\[\\x01-\\x09\\x0b\\x0c\\x0e-\\x7f])*\\\")@(?:(?:[a-z0-9](?:[a-z0-9-]*[a-z0-9])?\\.)+[a-z0-9](?:[a-z0-9-]*[a-z0-9])?|\\[(?:(?:25[0-5]|2[0-4][0-9]|[01]?[0-9][0-9]?)\\.){3}(?:25[0-5]|2[0-4][0-9]|[01]?[0-9][0-9]?|[a-z0-9-]*[a-z0-9]:(?:[\\x01-\\x08\\x0b\\x0c\\x0e-\\x1f\\x21-\\x5a\\x53-\\x7f]|\\\\[\\x01-\\x09\\x0b\\x0c\\x0e-\\x7f])+)\\])\")"
   ]
  },
  {
   "cell_type": "code",
   "execution_count": 24,
   "id": "authentic-blogger",
   "metadata": {},
   "outputs": [],
   "source": [
    "import json\n",
    "\n",
    "with open( \"rdf_test_expectation.json\", \"w\") as my_file:\n",
    "    my_file.write(\n",
    "        json.dumps(my_df.get_expectation_suite().to_json_dict())\n",
    "    )"
   ]
  },
  {
   "cell_type": "code",
   "execution_count": null,
   "id": "pediatric-waters",
   "metadata": {},
   "outputs": [],
   "source": []
  }
 ],
 "metadata": {
  "kernelspec": {
   "display_name": "Python 3",
   "language": "python",
   "name": "python3"
  },
  "language_info": {
   "codemirror_mode": {
    "name": "ipython",
    "version": 3
   },
   "file_extension": ".py",
   "mimetype": "text/x-python",
   "name": "python",
   "nbconvert_exporter": "python",
   "pygments_lexer": "ipython3",
   "version": "3.8.7"
  }
 },
 "nbformat": 4,
 "nbformat_minor": 5
}
