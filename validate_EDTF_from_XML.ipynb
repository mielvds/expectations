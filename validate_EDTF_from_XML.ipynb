{
 "cells": [
  {
   "cell_type": "code",
   "execution_count": 65,
   "id": "freelance-distribution",
   "metadata": {},
   "outputs": [],
   "source": [
    "from lxml import etree\n",
    "import pandas as pd\n",
    "import os"
   ]
  },
  {
   "cell_type": "code",
   "execution_count": 66,
   "id": "finished-pregnancy",
   "metadata": {},
   "outputs": [],
   "source": [
    "dir_with_xmls = \"./voorbeelden\"\n",
    "xpath = '/VIAA/dcterms_created_edtf'"
   ]
  },
  {
   "cell_type": "code",
   "execution_count": 67,
   "id": "forty-carter",
   "metadata": {},
   "outputs": [],
   "source": [
    "def extract_xpath_value(xml, xpath):\n",
    "    tree = etree.parse(xml_path)\n",
    "    r = tree.xpath(xpath)\n",
    "    return r[0].text"
   ]
  },
  {
   "cell_type": "code",
   "execution_count": 84,
   "id": "integrated-serbia",
   "metadata": {},
   "outputs": [],
   "source": [
    "from edtf_validate.valid_edtf import is_valid, isLevel0, isLevel1, isLevel2\n",
    "def validate_edtf(value):\n",
    "    print(\"    Valid: {}\".format(is_valid(value)))\n",
    "    print(\"    Level 0: {}\".format(isLevel0(value)))\n",
    "    print(\"    Level 1: {}\".format(isLevel1(value)))\n",
    "    print(\"    Level 2: {}\".format(isLevel2(value)))"
   ]
  },
  {
   "cell_type": "code",
   "execution_count": 85,
   "id": "quick-fossil",
   "metadata": {},
   "outputs": [
    {
     "name": "stdout",
     "output_type": "stream",
     "text": [
      "--- Validating directory ./voorbeelden ---\n",
      " |- Validating PUB02159.xml:\n",
      "    Valid: True\n",
      "    Level 0: True\n",
      "    Level 1: False\n",
      "    Level 2: False\n",
      " |- Validating PUB02161.xml:\n",
      "    Valid: True\n",
      "    Level 0: True\n",
      "    Level 1: False\n",
      "    Level 2: False\n",
      " |- Validating PUB02160.xml:\n",
      "    Valid: True\n",
      "    Level 0: True\n",
      "    Level 1: False\n",
      "    Level 2: False\n",
      " |- Validating PUB02022.xml:\n",
      "    Valid: True\n",
      "    Level 0: True\n",
      "    Level 1: False\n",
      "    Level 2: False\n"
     ]
    }
   ],
   "source": [
    "listofxml = os.listdir(dir_with_xmls)\n",
    "print(\"--- Validating directory {} ---\".format(dir_with_xmls))\n",
    "for xml in listofxml:\n",
    "    print(\" |- Validating {}:\".format(xml))\n",
    "    validate_edtf(extract_xpath_value(xml, xpath))\n",
    "        "
   ]
  },
  {
   "cell_type": "code",
   "execution_count": null,
   "id": "southern-philosophy",
   "metadata": {},
   "outputs": [],
   "source": []
  }
 ],
 "metadata": {
  "kernelspec": {
   "display_name": "Python 3",
   "language": "python",
   "name": "python3"
  },
  "language_info": {
   "codemirror_mode": {
    "name": "ipython",
    "version": 3
   },
   "file_extension": ".py",
   "mimetype": "text/x-python",
   "name": "python",
   "nbconvert_exporter": "python",
   "pygments_lexer": "ipython3",
   "version": "3.8.7"
  }
 },
 "nbformat": 4,
 "nbformat_minor": 5
}
