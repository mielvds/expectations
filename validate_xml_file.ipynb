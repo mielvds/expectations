{
 "cells": [
  {
   "cell_type": "code",
   "execution_count": 3,
   "metadata": {},
   "outputs": [],
   "source": [
    "import xml.etree.ElementTree as ET\n",
    "import pandas as pd\n",
    "import json\n",
    "import os\n",
    "import great_expectations as ge"
   ]
  },
  {
   "cell_type": "code",
   "execution_count": 4,
   "metadata": {},
   "outputs": [],
   "source": [
    "ITERATOR_PATH = \".//carrier/*\"\n",
    "MULTISELECT_PATH = \"multiselect\""
   ]
  },
  {
   "cell_type": "code",
   "execution_count": 5,
   "metadata": {},
   "outputs": [],
   "source": [
    "def process_xml(file):\n",
    "    tree = ET.parse(file)\n",
    "    root = tree.getroot()\n",
    "    \n",
    "    record = {}\n",
    "    for el in root.findall(ITERATOR_PATH):\n",
    "        if len(el) > 0:\n",
    "            record[el.tag] = ';'.join(list(map(lambda x: x.text, el.findall(MULTISELECT_PATH))))\n",
    "        else:\n",
    "            record[el.tag] = el.text\n",
    "            \n",
    "    return record"
   ]
  },
  {
   "cell_type": "code",
   "execution_count": 6,
   "metadata": {},
   "outputs": [],
   "source": [
    "xml_dir = \"./data\"\n",
    "listofxml = os.listdir(xml_dir)\n",
    "\n",
    "records = [ process_xml(xml_dir +'/'+ xml) for xml in listofxml ]\n",
    "df = pd.DataFrame.from_records(records)"
   ]
  },
  {
   "cell_type": "code",
   "execution_count": 7,
   "metadata": {},
   "outputs": [
    {
     "data": {
      "text/html": [
       "<div>\n",
       "<style scoped>\n",
       "    .dataframe tbody tr th:only-of-type {\n",
       "        vertical-align: middle;\n",
       "    }\n",
       "\n",
       "    .dataframe tbody tr th {\n",
       "        vertical-align: top;\n",
       "    }\n",
       "\n",
       "    .dataframe thead th {\n",
       "        text-align: right;\n",
       "    }\n",
       "</style>\n",
       "<table border=\"1\" class=\"dataframe\">\n",
       "  <thead>\n",
       "    <tr style=\"text-align: right;\">\n",
       "      <th></th>\n",
       "      <th>CP</th>\n",
       "      <th>CP_id</th>\n",
       "      <th>Sub_CP</th>\n",
       "      <th>PID</th>\n",
       "      <th>created_on</th>\n",
       "      <th>created_by</th>\n",
       "      <th>updated_on</th>\n",
       "      <th>updated_by</th>\n",
       "      <th>type</th>\n",
       "      <th>gauge</th>\n",
       "      <th>...</th>\n",
       "      <th>remarks</th>\n",
       "      <th>donor_of_the_archive</th>\n",
       "      <th>record_status</th>\n",
       "      <th>collection_box_barcode</th>\n",
       "      <th>batch_name</th>\n",
       "      <th>batch_id</th>\n",
       "      <th>batch_pickup_date</th>\n",
       "      <th>file_duration</th>\n",
       "      <th>transfer_lto_date</th>\n",
       "      <th>lto_id</th>\n",
       "    </tr>\n",
       "  </thead>\n",
       "  <tbody>\n",
       "    <tr>\n",
       "      <th>0</th>\n",
       "      <td>NaN</td>\n",
       "      <td>NaN</td>\n",
       "      <td>NaN</td>\n",
       "      <td>NaN</td>\n",
       "      <td>NaN</td>\n",
       "      <td>NaN</td>\n",
       "      <td>NaN</td>\n",
       "      <td>NaN</td>\n",
       "      <td>NaN</td>\n",
       "      <td>NaN</td>\n",
       "      <td>...</td>\n",
       "      <td>NaN</td>\n",
       "      <td>NaN</td>\n",
       "      <td>NaN</td>\n",
       "      <td>NaN</td>\n",
       "      <td>NaN</td>\n",
       "      <td>NaN</td>\n",
       "      <td>NaN</td>\n",
       "      <td>NaN</td>\n",
       "      <td>NaN</td>\n",
       "      <td>NaN</td>\n",
       "    </tr>\n",
       "    <tr>\n",
       "      <th>1</th>\n",
       "      <td>CP</td>\n",
       "      <td>OR-xxxx</td>\n",
       "      <td>NaN</td>\n",
       "      <td>1j9765cj05</td>\n",
       "      <td>2015-08-20T16:08:08</td>\n",
       "      <td>voornaam achternaam</td>\n",
       "      <td>2016-09-08T11:09:09</td>\n",
       "      <td>voornaam achternaam</td>\n",
       "      <td>film</td>\n",
       "      <td>16mm</td>\n",
       "      <td>...</td>\n",
       "      <td>NaN</td>\n",
       "      <td>NaN</td>\n",
       "      <td>reviewed by VIAA</td>\n",
       "      <td>NaN</td>\n",
       "      <td>FLMB16</td>\n",
       "      <td>FLMB16</td>\n",
       "      <td>2019-11-20</td>\n",
       "      <td>NaN</td>\n",
       "      <td>NaN</td>\n",
       "      <td>IM0218L5</td>\n",
       "    </tr>\n",
       "  </tbody>\n",
       "</table>\n",
       "<p>2 rows × 59 columns</p>\n",
       "</div>"
      ],
      "text/plain": [
       "    CP    CP_id  Sub_CP         PID           created_on           created_by  \\\n",
       "0  NaN      NaN     NaN         NaN                  NaN                  NaN   \n",
       "1   CP  OR-xxxx     NaN  1j9765cj05  2015-08-20T16:08:08  voornaam achternaam   \n",
       "\n",
       "            updated_on           updated_by  type gauge  ... remarks  \\\n",
       "0                  NaN                  NaN   NaN   NaN  ...     NaN   \n",
       "1  2016-09-08T11:09:09  voornaam achternaam  film  16mm  ...     NaN   \n",
       "\n",
       "  donor_of_the_archive     record_status collection_box_barcode  batch_name  \\\n",
       "0                  NaN               NaN                    NaN         NaN   \n",
       "1                  NaN  reviewed by VIAA                    NaN      FLMB16   \n",
       "\n",
       "  batch_id batch_pickup_date  file_duration  transfer_lto_date    lto_id  \n",
       "0      NaN               NaN            NaN                NaN       NaN  \n",
       "1   FLMB16        2019-11-20            NaN                NaN  IM0218L5  \n",
       "\n",
       "[2 rows x 59 columns]"
      ]
     },
     "execution_count": 7,
     "metadata": {},
     "output_type": "execute_result"
    }
   ],
   "source": [
    "ge_df = ge.from_pandas(df)\n",
    "ge_df.head()"
   ]
  },
  {
   "cell_type": "code",
   "execution_count": null,
   "metadata": {},
   "outputs": [],
   "source": [
    "ge_df.expect_column_values_to_be_unique(column=\"CP\")"
   ]
  },
  {
   "cell_type": "code",
   "execution_count": null,
   "metadata": {},
   "outputs": [],
   "source": [
    "import json\n",
    "\n",
    "with open( \"xml_test_expectation.json\", \"w\") as my_file:\n",
    "    my_file.write(\n",
    "        json.dumps(my_df.get_expectation_suite().to_json_dict())\n",
    "    )"
   ]
  }
 ],
 "metadata": {
  "kernelspec": {
   "display_name": "Python 3",
   "language": "python",
   "name": "python3"
  },
  "language_info": {
   "codemirror_mode": {
    "name": "ipython",
    "version": 3
   },
   "file_extension": ".py",
   "mimetype": "text/x-python",
   "name": "python",
   "nbconvert_exporter": "python",
   "pygments_lexer": "ipython3",
   "version": "3.8.7"
  }
 },
 "nbformat": 4,
 "nbformat_minor": 4
}
